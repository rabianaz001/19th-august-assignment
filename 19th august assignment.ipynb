{
 "cells": [
  {
   "cell_type": "markdown",
   "id": "93b13176-a29c-42cd-8387-3137a1fa96a6",
   "metadata": {},
   "source": [
    "TOPIC: Python Basics Variable"
   ]
  },
  {
   "cell_type": "markdown",
   "id": "b83c8ef1-9cc5-4ab9-9f43-bb65f7e33b44",
   "metadata": {},
   "source": [
    "Q1. Declare two variables, `x` and `y`, and assign them integer values. Swap the\n",
    "values of these variables without using any temporary variable."
   ]
  },
  {
   "cell_type": "code",
   "execution_count": 8,
   "id": "e0f3e330-5619-42a4-a317-11fbe95298b7",
   "metadata": {},
   "outputs": [
    {
     "name": "stdout",
     "output_type": "stream",
     "text": [
      "x=y y=x\n"
     ]
    }
   ],
   "source": [
    "x=10\n",
    "y=5\n",
    "x = x+y #15\n",
    "y = x-y #10\n",
    "x = x-y #5\n",
    "print(\"x=y\",\"y=x\")"
   ]
  },
  {
   "cell_type": "code",
   "execution_count": null,
   "id": "8315a0eb-8204-4e9b-8290-e74e348d1b0a",
   "metadata": {},
   "outputs": [],
   "source": [
    "# In the above solution ,first we change the value of 'x' into 'y' and similarly 'y' into 'x'.\n",
    "# then we compare the value of x and y by swapping ,hence we got the result."
   ]
  },
  {
   "cell_type": "markdown",
   "id": "51b32dd0-f720-4494-9ad0-0d4c133f79e0",
   "metadata": {},
   "source": [
    "Q2. Create a program that calculates the area of a rectangle. Take the length and\n",
    "width as inputs from the user and store them in variables. Calculate and\n",
    "display the area."
   ]
  },
  {
   "cell_type": "code",
   "execution_count": 10,
   "id": "05ce5f9a-8927-4065-856a-ecbeee41ec65",
   "metadata": {},
   "outputs": [
    {
     "name": "stdin",
     "output_type": "stream",
     "text": [
      "enter the length of rectangle 16\n",
      "enter the length of rectangle 4\n"
     ]
    },
    {
     "name": "stdout",
     "output_type": "stream",
     "text": [
      "Area of reactangle is 64.0\n"
     ]
    }
   ],
   "source": [
    "length = float(input(\"enter the length of rectangle\"))\n",
    "width = float(input(\"enter the length of rectangle\"))\n",
    "area = length*width\n",
    "print(\"Area of reactangle is\",area)"
   ]
  },
  {
   "cell_type": "code",
   "execution_count": null,
   "id": "8c43b376-9457-4e5e-aff9-48e3413c6c79",
   "metadata": {},
   "outputs": [],
   "source": [
    "# In second question ,first we take length and width as user input.Then we apply formula for\n",
    "# calculating area .Now we can print area by taking user input."
   ]
  },
  {
   "cell_type": "markdown",
   "id": "b6c6c5b8-76e2-4fdc-a76d-853ad0df52da",
   "metadata": {},
   "source": [
    "Q3. Write a Python program that converts temperatures from Celsius to\n",
    "Fahrenheit. Take the temperature in Celsius as input, store it in a variable,\n",
    "convert it to Fahrenheit, and display the result."
   ]
  },
  {
   "cell_type": "code",
   "execution_count": 12,
   "id": "248a7db8-30d9-4b52-8e37-d01ab0ef869c",
   "metadata": {},
   "outputs": [
    {
     "name": "stdin",
     "output_type": "stream",
     "text": [
      "enter the deegree of celsius 45\n"
     ]
    },
    {
     "name": "stdout",
     "output_type": "stream",
     "text": [
      "113.0\n"
     ]
    }
   ],
   "source": [
    "celsius = float(input(\"enter the deegree of celsius\"))\n",
    "fahrenheit = celsius*9/5+32\n",
    "print (fahrenheit)"
   ]
  },
  {
   "cell_type": "code",
   "execution_count": null,
   "id": "179c468b-a0e5-4675-9e78-cd8ac1f77a13",
   "metadata": {},
   "outputs": [],
   "source": [
    "# in the thirs solution, we take celsius as user input.then we put the formula for obtaining fahrenheit.\n",
    "# now we get the result by putting the value of celsius."
   ]
  },
  {
   "cell_type": "markdown",
   "id": "55d62233-03dc-4f92-a6b0-4c8affcaebcf",
   "metadata": {},
   "source": [
    "TOPIC: String Based Questions"
   ]
  },
  {
   "cell_type": "markdown",
   "id": "c8b69a04-2b45-47a5-901a-7d6d7b41d7d1",
   "metadata": {},
   "source": [
    "Q1. Write a Python program that takes a string as input and prints the length of\n",
    "the string."
   ]
  },
  {
   "cell_type": "code",
   "execution_count": 1,
   "id": "1334d24f-b824-452f-8608-2c75ee74284d",
   "metadata": {},
   "outputs": [
    {
     "name": "stdin",
     "output_type": "stream",
     "text": [
      "enter the string i am busy\n"
     ]
    },
    {
     "name": "stdout",
     "output_type": "stream",
     "text": [
      "length of string is 9\n"
     ]
    }
   ],
   "source": [
    "x =str(input(\"enter the string\"))\n",
    "print(\"length of string is\",len(x))"
   ]
  },
  {
   "cell_type": "code",
   "execution_count": null,
   "id": "5ca0969b-660c-48fc-b7e8-a2f3e396bffc",
   "metadata": {},
   "outputs": [],
   "source": [
    "# in the above solution first we take string as user input.then we print length of x which is varaiable of my input user."
   ]
  },
  {
   "cell_type": "markdown",
   "id": "8a833aea-af30-463d-b030-6a15256ad976",
   "metadata": {},
   "source": [
    "Q2. Create a program that takes a sentence from the user and counts the number\n",
    "of vowels (a, e, i, o, u) in the string."
   ]
  },
  {
   "cell_type": "code",
   "execution_count": 3,
   "id": "9c84e196-2ed5-4748-b2ac-61e3047c6260",
   "metadata": {},
   "outputs": [
    {
     "name": "stdin",
     "output_type": "stream",
     "text": [
      "enter the sentence i am here\n"
     ]
    },
    {
     "name": "stdout",
     "output_type": "stream",
     "text": [
      "Number of vowels in your sentence is 4\n"
     ]
    }
   ],
   "source": [
    "vowel = input(\"enter the sentence\")\n",
    "vowel_count = (\"a\",\"e\",\"i\",\"o\",\"u\")\n",
    "count=0\n",
    "for char in vowel:\n",
    "    if char in vowel_count:\n",
    "        count +=1\n",
    "print(\"Number of vowels in your sentence is\",count)"
   ]
  },
  {
   "cell_type": "markdown",
   "id": "1874adc7-a0eb-4cf8-9826-d9291891a2a4",
   "metadata": {},
   "source": [
    "Q3. Given a string, reverse the order of characters using string slicing and print\n",
    "the reversed string."
   ]
  },
  {
   "cell_type": "code",
   "execution_count": 4,
   "id": "709ad565-c4e6-47ff-8afa-e0c3ffd9f08c",
   "metadata": {},
   "outputs": [
    {
     "name": "stdin",
     "output_type": "stream",
     "text": [
      "enter the string i am rabia\n"
     ]
    },
    {
     "name": "stdout",
     "output_type": "stream",
     "text": [
      "aibar ma i\n"
     ]
    }
   ],
   "source": [
    "str= input(\"enter the string\")\n",
    "print(str[::-1])"
   ]
  },
  {
   "cell_type": "markdown",
   "id": "6b6b00a0-60e7-4da4-bf9d-1539bc4b98a7",
   "metadata": {},
   "source": [
    "Q4. Write a program that takes a string as input and checks if it is a palindrome\n",
    "(reads the same forwards and backwards)."
   ]
  },
  {
   "cell_type": "code",
   "execution_count": 2,
   "id": "48f1ad35-b53d-4331-b1dc-842bea8ba3f0",
   "metadata": {},
   "outputs": [
    {
     "name": "stdin",
     "output_type": "stream",
     "text": [
      "Enter the number 6738\n"
     ]
    },
    {
     "name": "stdout",
     "output_type": "stream",
     "text": [
      "num is not a palindrome\n"
     ]
    }
   ],
   "source": [
    "palindrome = input(\"Enter the number\")\n",
    "num = (palindrome[::-1])\n",
    "if num == palindrome:\n",
    "    print(\"num is palindrome\")\n",
    "    \n",
    "else:\n",
    "    print(\"num is not a palindrome\")"
   ]
  },
  {
   "cell_type": "markdown",
   "id": "ffa78f1a-c588-4cc0-b4f3-5696376c1223",
   "metadata": {},
   "source": [
    "Q5. Create a program that takes a string as input and removes all the spaces from\n",
    "it. Print the modified string without spaces."
   ]
  },
  {
   "cell_type": "code",
   "execution_count": 4,
   "id": "0342d5ff-6da3-4333-93d4-141c490ea595",
   "metadata": {},
   "outputs": [
    {
     "name": "stdin",
     "output_type": "stream",
     "text": [
      "enter the string sggs hhuu jswhjsh\n"
     ]
    },
    {
     "data": {
      "text/plain": [
       "'sggshhuujswhjsh'"
      ]
     },
     "execution_count": 4,
     "metadata": {},
     "output_type": "execute_result"
    }
   ],
   "source": [
    "str= input(\"enter the string\")\n",
    "str.replace(\" \" , \"\")"
   ]
  },
  {
   "cell_type": "code",
   "execution_count": null,
   "id": "a4f70adc-b527-4eae-a1de-d581e5c560e6",
   "metadata": {},
   "outputs": [],
   "source": []
  },
  {
   "cell_type": "code",
   "execution_count": null,
   "id": "0aa47bca-cfbd-48d5-85dc-b50f4b9001ff",
   "metadata": {},
   "outputs": [],
   "source": []
  }
 ],
 "metadata": {
  "kernelspec": {
   "display_name": "Python 3 (ipykernel)",
   "language": "python",
   "name": "python3"
  },
  "language_info": {
   "codemirror_mode": {
    "name": "ipython",
    "version": 3
   },
   "file_extension": ".py",
   "mimetype": "text/x-python",
   "name": "python",
   "nbconvert_exporter": "python",
   "pygments_lexer": "ipython3",
   "version": "3.10.8"
  }
 },
 "nbformat": 4,
 "nbformat_minor": 5
}
